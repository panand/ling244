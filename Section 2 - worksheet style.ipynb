{
 "metadata": {
  "name": "Section 2 - worksheet style"
 },
 "nbformat": 3,
 "nbformat_minor": 0,
 "worksheets": [
  {
   "cells": [
    {
     "cell_type": "markdown",
     "metadata": {},
     "source": "# Manipulating strings as lists\n\nLet's 1) reverse the order of the characters in a string, and 2) reverse each word in a multi-word string. Some scratch space:"
    },
    {
     "cell_type": "code",
     "collapsed": false,
     "input": "",
     "language": "python",
     "metadata": {},
     "outputs": [],
     "prompt_number": 3
    },
    {
     "cell_type": "code",
     "collapsed": false,
     "input": "",
     "language": "python",
     "metadata": {},
     "outputs": [],
     "prompt_number": 5
    },
    {
     "cell_type": "code",
     "collapsed": false,
     "input": "",
     "language": "python",
     "metadata": {},
     "outputs": [],
     "prompt_number": 6
    },
    {
     "cell_type": "code",
     "collapsed": false,
     "input": "",
     "language": "python",
     "metadata": {},
     "outputs": [],
     "prompt_number": 15
    },
    {
     "cell_type": "code",
     "collapsed": false,
     "input": "",
     "language": "python",
     "metadata": {},
     "outputs": [],
     "prompt_number": 20
    },
    {
     "cell_type": "code",
     "collapsed": false,
     "input": "",
     "language": "python",
     "metadata": {},
     "outputs": [],
     "prompt_number": 21
    },
    {
     "cell_type": "markdown",
     "metadata": {},
     "source": "## Now make it a function"
    },
    {
     "cell_type": "code",
     "collapsed": false,
     "input": "def reverseString(string):\n    \"\"\"\n    Reverses the order of a string\n    \n    Arguments:\n        string (a string) to reverse\n    \n    Returns:\n        reversedStr (a string) that is reversed\n        \n    Raises:\n        nothing\n    \"\"\"\n    # Your code here       \n    \nif __name__ == \"__main__\":\n    print reverseString(\"testing\")",
     "language": "python",
     "metadata": {},
     "outputs": [],
     "prompt_number": 23
    },
    {
     "cell_type": "markdown",
     "metadata": {},
     "source": "Let's have it do more than a single word:"
    },
    {
     "cell_type": "code",
     "collapsed": false,
     "input": "def reverseWords(sentence):\n    \"\"\"\n    Reverses each token successively in a sentence (split by space)\n    \n    Arguments:\n        sentence (a string) to split and reverse\n    \n    Returns:\n        a string whole tokens are reversed\n        \n    Raises:\n        nothing\n    \"\"\"\n\n    # Your code here\n    \nif __name__ == \"__main__\":\n    print \"Intended output:\"\n    print \"Eseht era eht semit erehw s'elpoep serutan era detset .ylereves\"\n    print \"Actual output:\"\n    print reverseWords(\"These are the times where people's natures are tested severely.\")",
     "language": "python",
     "metadata": {},
     "outputs": [],
     "prompt_number": 27
    },
    {
     "cell_type": "markdown",
     "metadata": {},
     "source": "# Sorting lists by key functions"
    },
    {
     "cell_type": "markdown",
     "metadata": {},
     "source": "Goal: Sort a list of strings by the position of the first 'e'\n\nBut first, let's just sort alphabetically, reverse alphabetically, and by length"
    },
    {
     "cell_type": "code",
     "collapsed": false,
     "input": "test = \"Eseht era eht semit erehw s'elpoep serutan era detset .ylereves\"",
     "language": "python",
     "metadata": {},
     "outputs": [],
     "prompt_number": 35
    },
    {
     "cell_type": "code",
     "collapsed": false,
     "input": "",
     "language": "python",
     "metadata": {},
     "outputs": [],
     "prompt_number": 36
    },
    {
     "cell_type": "code",
     "collapsed": false,
     "input": "",
     "language": "python",
     "metadata": {},
     "outputs": [],
     "prompt_number": 38
    },
    {
     "cell_type": "code",
     "collapsed": false,
     "input": "",
     "language": "python",
     "metadata": {},
     "outputs": [],
     "prompt_number": 46
    },
    {
     "cell_type": "code",
     "collapsed": false,
     "input": "",
     "language": "python",
     "metadata": {},
     "outputs": [],
     "prompt_number": 48
    },
    {
     "cell_type": "markdown",
     "metadata": {},
     "source": "Ok, now let's make a more complex function to use as the sorting key"
    },
    {
     "cell_type": "code",
     "collapsed": false,
     "input": "# Sort by the following convention:\n# the location of the first 'e' in the sentence\n\ndef getFirstInstance(string, substring):\n    \"\"\"\n    gets the location of the first substring in a string\n    \n    Arguments:\n        string (a string) to examine\n        substring (a string) to look for\n    \n    Returns:\n        the first index of substring\n        \n    Raises:\n        nothing\n    \"\"\"\n    # Your code here\n\ndef getFirstE(string):\n    # your code here\n\nif __name__ == \"__main__\":\n    test = \"Eseht era eht semit erehw s'elpoep serutan era detset .ylereves\"\n    tokens = test.split(\" \")\n    tokens.sort(key=getFirstE)\n    print tokens",
     "language": "python",
     "metadata": {},
     "outputs": []
    },
    {
     "cell_type": "markdown",
     "metadata": {},
     "source": "Why use find() vs index()?"
    },
    {
     "cell_type": "code",
     "collapsed": false,
     "input": "",
     "language": "python",
     "metadata": {},
     "outputs": [],
     "prompt_number": 53
    },
    {
     "cell_type": "markdown",
     "metadata": {},
     "source": "# Fun with dictionaries\n\nWhat does this code do?"
    },
    {
     "cell_type": "code",
     "collapsed": false,
     "input": "def getMobyDickWords():\n    mobydick = \"\"\"Call me Ishmael. Some years ago -- never mind how long precisely--having\nlittle or no money in my purse, and nothing particular to interest me on\nshore, I thought I would sail about a little and see the watery part of\nthe world. It is a way I have of driving off the spleen and regulating\nthe circulation. Whenever I find myself growing grim about the mouth;\nwhenever it is a damp, drizzly November in my soul; whenever I find\nmyself involuntarily pausing before coffin warehouses, and bringing up\nthe rear of every funeral I meet; and especially whenever my hypos get\nsuch an upper hand of me, that it requires a strong moral principle to\nprevent me from deliberately stepping into the street, and methodically\nknocking people's hats off -- then, I account it high time to get to sea\nas soon as I can. This is my substitute for pistol and ball. With a\nphilosophical flourish Cato throws himself upon his sword; I quietly\ntake to the ship. There is nothing surprising in this. If they but knew\nit, almost all men in their degree, some time or other, cherish very\nnearly the same feelings towards the ocean with me.\n\nThere now is your insular city of the Manhattoes, belted round by\nwharves as Indian isles by coral reefs -- commerce surrounds it with\nher surf. Right and left, the streets take you waterward. Its extreme\ndowntown is the battery, where that noble mole is washed by waves, and\ncooled by breezes, which a few hours previous were out of sight of land.\nLook at the crowds of water-gazers there.\"\"\"\n    normedText = mobydick.replace(\"\\n\", \" \")\n    punctuation = \";:,.?!-\"\n    for punct in punctuation:\n        normedText = normedText.replace(punct, \"\")\n    return filter(lambda x: x != \"\", normedText.split(\" \"))",
     "language": "python",
     "metadata": {},
     "outputs": [],
     "prompt_number": 54
    },
    {
     "cell_type": "code",
     "collapsed": false,
     "input": "words = getMobyDickWords()\nprint words",
     "language": "python",
     "metadata": {},
     "outputs": [],
     "prompt_number": 57
    },
    {
     "cell_type": "markdown",
     "metadata": {},
     "source": "Let's make a dictionary of word frequencies, like from lecture"
    },
    {
     "cell_type": "code",
     "collapsed": false,
     "input": "frequencies = {}\n# Your code here. How do we loop through the words in the 'words' list?\n\nprint frequencies",
     "language": "python",
     "metadata": {},
     "outputs": [],
     "prompt_number": 62
    },
    {
     "cell_type": "markdown",
     "metadata": {},
     "source": "Now let's get the frequency of the first letters. First, how do we drill down to get at words and their frequencies in the dict we just made?"
    },
    {
     "cell_type": "code",
     "collapsed": false,
     "input": "",
     "language": "python",
     "metadata": {},
     "outputs": [],
     "prompt_number": 66
    },
    {
     "cell_type": "code",
     "collapsed": false,
     "input": "frequenciesLetters = {}\n\n# Your code here. Get the words from our other dictionary and make a new one for the first letters from it.\n\nprint frequenciesLetters",
     "language": "python",
     "metadata": {},
     "outputs": [],
     "prompt_number": 68
    },
    {
     "cell_type": "markdown",
     "metadata": {},
     "source": "We can sort frequenciesLetters by the keys (i.e., the letters) pretty easily."
    },
    {
     "cell_type": "code",
     "collapsed": false,
     "input": "",
     "language": "python",
     "metadata": {},
     "outputs": [],
     "prompt_number": 71
    },
    {
     "cell_type": "code",
     "collapsed": false,
     "input": "",
     "language": "python",
     "metadata": {},
     "outputs": [],
     "prompt_number": 74
    },
    {
     "cell_type": "markdown",
     "metadata": {},
     "source": "But how can we sort by frequency?"
    },
    {
     "cell_type": "code",
     "collapsed": false,
     "input": "",
     "language": "python",
     "metadata": {},
     "outputs": [],
     "prompt_number": 77
    },
    {
     "cell_type": "code",
     "collapsed": false,
     "input": "",
     "language": "python",
     "metadata": {},
     "outputs": [],
     "prompt_number": 80
    },
    {
     "cell_type": "markdown",
     "metadata": {},
     "source": "# Dictionaries of dictionaries (yo dawg)\n\nThe dictionary below holds verbs. Each verb is the key for a dictionary of its thematic roles. Each thematic role is a dictionary of the sentence structures that the role can appear in with the verb in question."
    },
    {
     "cell_type": "code",
     "collapsed": false,
     "input": "thetaMap = {}\nthetaMap[\"destroy\"] = {}\nthetaMap[\"destroy\"][\"Agent\"] = [(\"S\", \"NP V NP\"), (\"S\", \"NP V NP PP.INSTRUMENT\")]\nthetaMap[\"destroy\"][\"Patient\"] = [(\"S\", \"NP V NP\"), (\"S\", \"NP V NP PP.INSTRUMENT\"), (\"S\", \"PP.INSTRUMENT V NP\")]",
     "language": "python",
     "metadata": {},
     "outputs": [],
     "prompt_number": 3
    },
    {
     "cell_type": "markdown",
     "metadata": {},
     "source": "These are very powerful. What does the code below do?"
    },
    {
     "cell_type": "code",
     "collapsed": false,
     "input": "def struxOverlap(verb, role1, role2):\n    global thetaMap\n    overlap = []\n    verbEntry = thetaMap[verb]\n    overlap = [strux for strux in verbEntry[role1] if strux in verbEntry[role2]]\n    return overlap\n\nprint struxOverlap(\"destroy\", \"Agent\", \"Patient\")",
     "language": "python",
     "metadata": {},
     "outputs": [
      {
       "output_type": "stream",
       "stream": "stdout",
       "text": "[('S', 'NP V NP'), ('S', 'NP V NP PP.INSTRUMENT')]\n"
      }
     ],
     "prompt_number": 6
    },
    {
     "cell_type": "code",
     "collapsed": false,
     "input": "",
     "language": "python",
     "metadata": {},
     "outputs": []
    }
   ],
   "metadata": {}
  }
 ]
}