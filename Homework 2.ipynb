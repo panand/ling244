{
 "metadata": {
  "name": ""
 },
 "nbformat": 3,
 "nbformat_minor": 0,
 "worksheets": [
  {
   "cells": [
    {
     "cell_type": "code",
     "collapsed": false,
     "input": [
      "#/usr/bin/env python\n",
      "# -*- coding: utf-8 -*- \n",
      "\n",
      "# The coding line above will let you use unicode symbols in your program text, as Brianna suggested.\n",
      "# Note that ipython automagically does that for you, but if you aren't using\n",
      "# it, you'll need this line."
     ],
     "language": "python",
     "metadata": {},
     "outputs": []
    },
    {
     "cell_type": "markdown",
     "metadata": {},
     "source": [
      "<hr/>\n",
      "<center><h1>Functions and Scope</h1></center>\n",
      "<hr/>"
     ]
    },
    {
     "cell_type": "markdown",
     "metadata": {},
     "source": [
      "For the problems in this section, it is important to understand how names work in Python. As I suggested in class, there is a precise semantics for names in context that mirrors what you learn in Sem1: a name is a bit of syntax that **denotes** a referent, which is a particular block of memory.\n",
      "\n",
      "The denotation function is governed by the scope conventions from Wednesday. To understand that in more detail, please read the following two documents:\n",
      "\n",
      "* the Python official [execution model documentation](http://docs.python.org/dev/reference/executionmodel.html)\n",
      "\n",
      "* this [blog post on names](http://tech.blog.aknin.name/2010/06/05/pythons-innards-naming/), especially the first half (when it gets to assembly, you can stop, though it is probably very useful to read through that at least once); ignore the stuff about exceptions at the end\n",
      "\n",
      "I don't think you'll get everything on your first time, and please feel free to ignore any discussion of generators. Classes we will talk about on Monday; they are just object you make up yourself. Modules we'll talk about on Wednesday; they are simply python files. In particular, this ENTIRE notebook is one module. That is key to one of the parts of Problem 1."
     ]
    },
    {
     "cell_type": "markdown",
     "metadata": {},
     "source": [
      "##Problem 1\n",
      "\n",
      "A) In the script below, the first deletion yields an error and the second does not. Why? Please explain, making reference to the scope of the variables and mutability."
     ]
    },
    {
     "cell_type": "code",
     "collapsed": false,
     "input": [
      "#try to delete a variable in wrong scope\n",
      "\n",
      "def fn():\n",
      "    print x\n",
      "    #del  x      #why is this bad when del is uncommented?\n",
      "    #del y[\"a\"] #why is this ok?\n",
      "    print y\n",
      "if __name__ == \"__main__\":\n",
      "    x = 10\n",
      "    y = {}\n",
      "    y[\"a\"] = \"b\"\n",
      "    fn()"
     ],
     "language": "python",
     "metadata": {},
     "outputs": [
      {
       "output_type": "stream",
       "stream": "stdout",
       "text": [
        "10\n",
        "{'a': 'b'}\n"
       ]
      }
     ],
     "prompt_number": 26
    },
    {
     "cell_type": "markdown",
     "metadata": {},
     "source": [
      "B) Consider the scripts below. Three variables are referenced, `x`, `y`, and `z`. Why do the references for `x` and `y` go through, but not the one for `z`. "
     ]
    },
    {
     "cell_type": "code",
     "collapsed": false,
     "input": [
      "#stuff in __main__ module and globals\n",
      "\n",
      "if __name__ == '__main__':\n",
      "    print x        # why does this yield a value?\n",
      "    y[\"c\"] = 12\n",
      "    print y\n",
      "    #z[\"a\"] = \"b\" #why does z trigger a name error and y does not?"
     ],
     "language": "python",
     "metadata": {},
     "outputs": [
      {
       "output_type": "stream",
       "stream": "stdout",
       "text": [
        "10\n",
        "{'a': 'b', 'c': 12}\n"
       ]
      }
     ],
     "prompt_number": 25
    },
    {
     "cell_type": "markdown",
     "metadata": {},
     "source": [
      "C) Given your answer above, why is it a good idea in a Python Notebook to do something like the `del` operations below occasionally? "
     ]
    },
    {
     "cell_type": "code",
     "collapsed": false,
     "input": [
      "if __name__ == '__main__':\n",
      "    del x\n",
      "    del y\n",
      "    del fn"
     ],
     "language": "python",
     "metadata": {},
     "outputs": []
    },
    {
     "cell_type": "markdown",
     "metadata": {},
     "source": [
      "##Problem 2\n",
      "\n",
      "Consider the code below. Please explain why `l1` and `l2` end up the same, but `l4` is different and why, differently, `s1` and `s2` do not remain the same. Your answer should consider mutability, but really be about names and their referents in memory. If you are confused about this and other problems in the section, look at the code in [Python tutor](http://pythontutor.com)."
     ]
    },
    {
     "cell_type": "code",
     "collapsed": false,
     "input": [
      "if __name__ == '__main__':\n",
      "    s1 = s2 = s3 = \"testString\"\n",
      "    l1 = l2 = l3 = list(\"testList\")\n",
      "    l4 = l1[:]\n",
      "    \n",
      "    l1[0] = 'T'\n",
      "    s1 = s1.capitalize()\n",
      "    print l1, l2, l4\n",
      "    print s1, s2\n",
      "    \n",
      "    del s1,s2,s3,l1,l2,l3,l4"
     ],
     "language": "python",
     "metadata": {},
     "outputs": [
      {
       "output_type": "stream",
       "stream": "stdout",
       "text": [
        "['T', 'e', 's', 't', 'L', 'i', 's', 't'] ['T', 'e', 's', 't', 'L', 'i', 's', 't'] ['t', 'e', 's', 't', 'L', 'i', 's', 't']\n",
        "Teststring testString\n"
       ]
      }
     ],
     "prompt_number": 27
    },
    {
     "cell_type": "markdown",
     "metadata": {},
     "source": [
      "##Problem 3\n",
      "\n",
      "I told you that functions are bits of code in memory; you even saw that in [Python tutor](http://pythontutor.com). We also saw that functions are named by using the `def` keyword. But we already know that functions are bits of memory, like everything else. And so, you can bind several names to function just by assignment."
     ]
    },
    {
     "cell_type": "code",
     "collapsed": false,
     "input": [
      "def fn(i):\n",
      "    print i*i\n",
      "\n",
      "if __name__ == '__main__':\n",
      "    fn(2)\n",
      "    newF = fn\n",
      "    newF(3)\n",
      "    del fn, newF"
     ],
     "language": "python",
     "metadata": {},
     "outputs": [
      {
       "output_type": "stream",
       "stream": "stdout",
       "text": [
        "4\n",
        "9\n"
       ]
      }
     ],
     "prompt_number": 28
    },
    {
     "cell_type": "markdown",
     "metadata": {},
     "source": [
      "And just like any other variable, you can return a function name, which shares the referent:"
     ]
    },
    {
     "cell_type": "code",
     "collapsed": false,
     "input": [
      "def fn():\n",
      "    def square(i):\n",
      "        return i*i\n",
      "    return square\n",
      "\n",
      "if __name__ == \"__main__\":\n",
      "    fvar = fn()\n",
      "    print fvar(30)\n",
      "    del fn,fvar"
     ],
     "language": "python",
     "metadata": {},
     "outputs": []
    },
    {
     "cell_type": "markdown",
     "metadata": {},
     "source": [
      "A) Consider the function below. Please call it to multiply 5 and 10 to get 50."
     ]
    },
    {
     "cell_type": "code",
     "collapsed": false,
     "input": [
      "def outer(x):\n",
      "    def inner(y):\n",
      "        return x*y\n",
      "    return inner\n",
      "\n",
      "#enter your call to outer here.\n",
      "print outer(5)(10)\n",
      "\n",
      "del outer"
     ],
     "language": "python",
     "metadata": {},
     "outputs": [
      {
       "output_type": "stream",
       "stream": "stdout",
       "text": [
        "50\n"
       ]
      }
     ],
     "prompt_number": 30
    },
    {
     "cell_type": "markdown",
     "metadata": {},
     "source": [
      "B) Now complete the definition of the function called `love` which passes the tests below."
     ]
    },
    {
     "cell_type": "code",
     "collapsed": false,
     "input": [
      "def love(x):\n",
      "    verb = \"love\"\n",
      "    def love_inner(y):\n",
      "        #enter your code here\n",
      "        if x == \"he\":\n",
      "            return x + ' '  + verb + 's ' + y\n",
      "        else:\n",
      "            return x + ' '  + verb + ' ' + y\n",
      "    return love_inner\n",
      "\n",
      "if __name__ == '__main__':\n",
      "    print love(\"I\")(\"Python\") == \"I love Python\"\n",
      "    print love(\"he\")(\"Python\") == \"he loves Python\"\n",
      "    del love"
     ],
     "language": "python",
     "metadata": {},
     "outputs": [
      {
       "output_type": "stream",
       "stream": "stdout",
       "text": [
        "True\n",
        "True\n"
       ]
      }
     ],
     "prompt_number": 41
    },
    {
     "cell_type": "markdown",
     "metadata": {},
     "source": [
      "We've seen that we can bind a name to a function separate from the definition. \n",
      "\n",
      "The final thing to know about functions is that it is possible to define them without naming them too (these are called, appropriately, **anonymous** functions. To do that, you use the `lambda` construct. \n",
      "\n",
      "**Caution:** The lambda construct is a one-liner; you can't make it longer -- [see here for the reason](http://stackoverflow.com/questions/1233448/no-multiline-lambda-in-python-why-not)"
     ]
    },
    {
     "cell_type": "code",
     "collapsed": false,
     "input": [
      "#normal functions\n",
      "def add(x,y):\n",
      "    return x+y\n",
      "\n",
      "def double(x):\n",
      "    return x+x\n",
      "\n",
      "fAdd = lambda x,y: x+y #declaring and assigning anonymous functions\n",
      "fDouble = lambda x: x+x\n",
      "\n",
      "print fAdd == add #not the same function, since they are different in memory \n",
      "print fAdd(3,2) == add(3,2) #but they do the same thing\n",
      "\n",
      "del add,double,fAdd,fDouble"
     ],
     "language": "python",
     "metadata": {},
     "outputs": [
      {
       "output_type": "stream",
       "stream": "stdout",
       "text": [
        "False\n",
        "True\n"
       ]
      }
     ],
     "prompt_number": 42
    },
    {
     "cell_type": "markdown",
     "metadata": {},
     "source": [
      "C) Rewrite the love function to replace `love_inner` with a `lambda` function."
     ]
    },
    {
     "cell_type": "code",
     "collapsed": false,
     "input": [
      "def love(x):\n",
      "    verb = \"love\"\n",
      "    # your code\n",
      "    return lambda y: (x + ' '  + verb + 's ' + y) if x==\"he\" else (x + ' '  + verb + ' ' + y)\n",
      "\n",
      "if __name__ == '__main__':\n",
      "    print love(\"I\")(\"Python\") == \"I love Python\"\n",
      "    print love(\"he\")(\"Python\") == \"he loves Python\"\n",
      "    del love"
     ],
     "language": "python",
     "metadata": {},
     "outputs": [
      {
       "output_type": "stream",
       "stream": "stdout",
       "text": [
        "True\n",
        "True\n"
       ]
      }
     ],
     "prompt_number": 45
    },
    {
     "cell_type": "markdown",
     "metadata": {},
     "source": [
      "##Problem 4\n",
      "\n",
      "With all of that out of the way, please explain in your own words why `outer()()` and `outer_nonlexical()()` behave so differently. I know there is a detailed explanation for this, but I want to hear it in your own words. It should start with an explanation for why we need two sets of parens here..."
     ]
    },
    {
     "cell_type": "code",
     "collapsed": false,
     "input": [
      "#closure variables\n",
      "def outer():\n",
      "    a = 1\n",
      "    # creating a lexically nested function bar\n",
      "    def inner():\n",
      "        # a is visible from outer's locals\n",
      "        return a\n",
      "    return inner\n",
      " \n",
      "# inner_nonlexical will be called from within\n",
      "#  outer_nonlexical but it is not lexically nested\n",
      "def inner_nonlexical():\n",
      "    return a # a is not visible\n",
      "def outer_nonlexical():\n",
      "    a = 1\n",
      "    inner = inner_nonlexical\n",
      "    return inner_nonlexical\n",
      "\n",
      "outer()()\n",
      "outer_nonlexical()()\n",
      "\n",
      "del outer, outer_nonlexical"
     ],
     "language": "python",
     "metadata": {},
     "outputs": [],
     "prompt_number": 49
    },
    {
     "cell_type": "markdown",
     "metadata": {},
     "source": [
      "<hr/>\n",
      "<center><h1>Sorting Complex Lists</h1></center>\n",
      "<hr/>"
     ]
    },
    {
     "cell_type": "markdown",
     "metadata": {},
     "source": [
      "##Problem 5\n",
      "\n",
      "Recall that `sort` and `sorted` can take a *key* optional parameter to do the sorting. We saw one use of that, where you can sort by length or by first 'e'. In this problem, we'll consider the canonical use, sorting complex list elements.\n",
      "\n",
      "In particular, we will consider cases where the list elements are dictionaries representing tokens."
     ]
    },
    {
     "cell_type": "code",
     "collapsed": false,
     "input": [
      "tokens = [{\"word\": \"A\", \"normed\": \"a\", \"pos\": \"DT\"},\n",
      "          {\"word\": \"final\", \"normed\": \"final\", \"pos\": \"JJ\"},\n",
      "          {\"word\": \"problem\", \"normed\": \"problem\", \"pos\": \"NN\"},\n",
      "          {\"word\": \"would\", \"normed\": \"would\", \"pos\": \"MD\"},\n",
      "          {\"word\": \"be\", \"normed\": \"be\", \"pos\": \"VB\"},\n",
      "          {\"word\": \"nice\", \"normed\": \"nice\", \"pos\": \"JJ\"}]\n",
      "\n",
      "     \n",
      "tokensRevSorted = [{'normed': 'would', 'word': 'would', 'pos': 'MD'}, \n",
      "                   {'normed': 'problem', 'word': 'problem', 'pos': 'NN'}, \n",
      "                   {'normed': 'be', 'word': 'be', 'pos': 'VB'}, \n",
      "                   {'normed': 'nice', 'word': 'nice', 'pos': 'JJ'}, \n",
      "                   {'normed': 'a', 'word': 'A', 'pos': 'DT'}, \n",
      "                   {'normed': 'final', 'word': 'final', 'pos': 'JJ'}]\n"
     ],
     "language": "python",
     "metadata": {},
     "outputs": [
      {
       "output_type": "stream",
       "stream": "stdout",
       "text": [
        "[{'normed': 'a', 'word': 'A', 'pos': 'DT'}, {'normed': 'be', 'word': 'be', 'pos': 'VB'}, {'normed': 'final', 'word': 'final', 'pos': 'JJ'}, {'normed': 'nice', 'word': 'nice', 'pos': 'JJ'}, {'normed': 'problem', 'word': 'problem', 'pos': 'NN'}, {'normed': 'would', 'word': 'would', 'pos': 'MD'}]\n"
       ]
      }
     ],
     "prompt_number": 93
    },
    {
     "cell_type": "markdown",
     "metadata": {},
     "source": [
      "Define a new key function, either named or anonymous, to sort the token list by final vowel of the normed version and sort the tokens by reverse order wrt that function."
     ]
    },
    {
     "cell_type": "code",
     "collapsed": false,
     "input": [
      "#maybe a function here...\n",
      "vowels=\"aeiou\"\n",
      "def finalVowel(word):\n",
      "    for v in vowels:\n",
      "        if word.rfind(v) == -1:\n",
      "            pass\n",
      "        else:\n",
      "            return v\n",
      "print sorted(tokens, key=lambda d :finalVowel(d[\"normed\"]), reverse=True) \n"
     ],
     "language": "python",
     "metadata": {},
     "outputs": [
      {
       "output_type": "stream",
       "stream": "stdout",
       "text": [
        "[{'normed': 'would', 'word': 'would', 'pos': 'MD'}, {'normed': 'be', 'word': 'be', 'pos': 'VB'}, {'normed': 'nice', 'word': 'nice', 'pos': 'JJ'}, {'normed': 'problem', 'word': 'problem', 'pos': 'NN'}, {'normed': 'a', 'word': 'A', 'pos': 'DT'}, {'normed': 'final', 'word': 'final', 'pos': 'JJ'}]\n"
       ]
      },
      {
       "metadata": {},
       "output_type": "pyout",
       "prompt_number": 149,
       "text": [
        "[{'normed': 'a', 'pos': 'DT', 'word': 'A'},\n",
        " {'normed': 'final', 'pos': 'JJ', 'word': 'final'},\n",
        " {'normed': 'nice', 'pos': 'JJ', 'word': 'nice'},\n",
        " {'normed': 'would', 'pos': 'MD', 'word': 'would'},\n",
        " {'normed': 'problem', 'pos': 'NN', 'word': 'problem'},\n",
        " {'normed': 'be', 'pos': 'VB', 'word': 'be'}]"
       ]
      }
     ],
     "prompt_number": 149
    },
    {
     "cell_type": "markdown",
     "metadata": {},
     "source": [
      "##Problem 6\n",
      "\n",
      "In addition to getting custom keys for sorting, Python 2 also allows a `cmp` parameter, a function that is explicitly called to compare two elements during the sorting. Functions that implement `cmp` have the following character:\n",
      "\n",
      "1. they take two elements, call them `x` and `y`\n",
      "2. they return -1, 0, or 1:  \n",
      "    1. -1: if you want `x` before `y`\n",
      "    2. 0: if you treat `x` and `y` as equal\n",
      "    3. 1: if you want `x` after `y`\n",
      "\n",
      "With this in mind, consider the code below, which sorts a list of strings by the length. This is like what we talked about in class, except now I am using `cmp` instead of `key`."
     ]
    },
    {
     "cell_type": "code",
     "collapsed": false,
     "input": [
      "def cmpByLen(x,y):\n",
      "    \"\"\"this function compares two strings in terms of length\"\"\"\n",
      "    \n",
      "    lx = len(x)\n",
      "    ly = len(y)\n",
      "    \n",
      "    # look up the cmp function, which is basically this\n",
      "    if lx < ly:\n",
      "        return -1\n",
      "    elif lx == ly:\n",
      "        return cmp(x, y)\n",
      "    elif lx > ly:\n",
      "        return 1\n",
      "\n",
      "li = \"these are some words that form a sentence of dubious value and a self-referential egotism I assume\".lower().split(\" \")\n",
      "print sorted(li, cmp=cmpByLen)\n",
      "del li\n",
      "del cmpByLen"
     ],
     "language": "python",
     "metadata": {},
     "outputs": [
      {
       "output_type": "stream",
       "stream": "stdout",
       "text": [
        "['a', 'a', 'i', 'of', 'and', 'are', 'form', 'some', 'that', 'these', 'value', 'words', 'assume', 'dubious', 'egotism', 'sentence', 'self-referential']\n"
       ]
      }
     ],
     "prompt_number": 144
    },
    {
     "cell_type": "markdown",
     "metadata": {},
     "source": [
      "Now, forearmed with this knowledge, sort tokens first by part of speech and then by normed word.\n",
      "\n",
      "I'd like the following order of parts of speech (first to last): DT, JJ, NN, MD, VB"
     ]
    },
    {
     "cell_type": "code",
     "collapsed": false,
     "input": [
      "def cmpComplicated(tok1, tok2):\n",
      "    \"\"\"This function sorts first by part of speech and then by normed word.\n",
      "    Order of POS: DT, JJ, NN, MD, VB\n",
      "    \"\"\"\n",
      "    con_key = {'DT':1, 'JJ':2, 'NN':3, 'MD':4, 'VB':5}\n",
      "    token1=con_key[token1]\n",
      "    if token1\n",
      "    ###your code here\n",
      "    return 0\n",
      "    \n",
      "complicatedSortTokens = [{'normed': 'a', 'word': 'A', 'pos': 'DT'}, \n",
      "                         {'normed': 'final', 'word': 'final', 'pos': 'JJ'}, \n",
      "                         {'normed': 'nice', 'word': 'nice', 'pos': 'JJ'}, \n",
      "                         {'normed': 'problem', 'word': 'problem', 'pos': 'NN'}, \n",
      "                         {'normed': 'would', 'word': 'would', 'pos': 'MD'}, \n",
      "                         {'normed': 'be', 'word': 'be', 'pos': 'VB'}]\n",
      "    \n",
      "print sorted(tokens, cmp=lambda x:cmpComplicated(x['pos'])) ==  complicatedSortTokens\n",
      "\n"
     ],
     "language": "python",
     "metadata": {},
     "outputs": [
      {
       "metadata": {},
       "output_type": "pyout",
       "prompt_number": 152,
       "text": [
        "[{'normed': 'a', 'pos': 'DT', 'word': 'A'},\n",
        " {'normed': 'final', 'pos': 'JJ', 'word': 'final'},\n",
        " {'normed': 'nice', 'pos': 'JJ', 'word': 'nice'},\n",
        " {'normed': 'would', 'pos': 'MD', 'word': 'would'},\n",
        " {'normed': 'problem', 'pos': 'NN', 'word': 'problem'},\n",
        " {'normed': 'be', 'pos': 'VB', 'word': 'be'}]"
       ]
      }
     ],
     "prompt_number": 152
    },
    {
     "cell_type": "markdown",
     "metadata": {},
     "source": [
      "<hr/>\n",
      "<center><h1>Alliteration, Assonace, Consonance</h1></center>\n",
      "<hr/>"
     ]
    },
    {
     "cell_type": "markdown",
     "metadata": {},
     "source": [
      "## Problem 7\n",
      "\n",
      "Finally, alliteration. To do this problem, we will need some help beyond copying from wiktionary, as much fun as that might be. We will use the [CMU Pronouncing Dictionary](http://www.speech.cs.cmu.edu/cgi-bin/cmudict). I have a version I've already made into a `dict`. Let me show you how to load it:"
     ]
    },
    {
     "cell_type": "code",
     "collapsed": false,
     "input": [
      "import json\n",
      "f = open(\"cmdict7a.json\", \"r\")\n",
      "dictionary = json.load(f)\n",
      "f.close()\n",
      "del f"
     ],
     "language": "python",
     "metadata": {},
     "outputs": []
    },
    {
     "cell_type": "markdown",
     "metadata": {},
     "source": [
      "The dictionary has a few quirks. \n",
      "\n",
      "**First**, several words have multiple pronunciations, and I've chosen mark that by making the pronunciations a list, so something like:\n",
      "\n",
      "    dictionary[\"word\"] = [ pronunciation1, pronunciation2, ...]\n",
      "\n",
      "**Second**, the pronunciations themselves aren't in IPA, but an ASCII standard called [ARPABET](http://en.wikipedia.org/wiki/Arpabet) (while you are at that page, check out [SAMPA](http://en.wikipedia.org/wiki/X-SAMPA). If you'd like to convert that to IPA, you can, but I don't think you should need to do that here. Note that many phonemes are consequently several characters, which can make it hard to properly segment a word.\n",
      "\n",
      "I chose to split each pronunciation into a **list** of the phonemes, so that it'd be easier to process.\n",
      "\n",
      "    dictionary[\"test\"] = [[u'T', u'EH', u'S', u'T']]\n",
      "    dictionary[\"question\"] = [[u'K', u'W', u'EH', u'S', u'CH', u'AH', u'N'],\n",
      "                             [u'K', u'W', u'EH', u'SH', u'AH', u'N']]\n",
      "    \n",
      "(The u's in front of the strings indicate they are unicode strings. That comes from how I encoded. It won't matter for what you are doing, since the Unicode code points for ASCII characters align with the ASCII numbers.)"
     ]
    },
    {
     "cell_type": "code",
     "collapsed": false,
     "input": [
      "dictionary[\"global\"]"
     ],
     "language": "python",
     "metadata": {},
     "outputs": []
    },
    {
     "cell_type": "markdown",
     "metadata": {},
     "source": [
      "Ok, now the problem. Write three functions to do the following:\n",
      "\n",
      "1. `alliteration(w1, w2)`: True when w1 and w2 start with the same consonant\n",
      "2. `assonance(w1, w2)`: True when w1 and w2 share the same **first** vowel\n",
      "3. `rhyme(w1,w2)`: True when w1 and w2 rhyme (the rhymes are identical)\n",
      "\n",
      "Recall that some words have multiple pronunciations. Make sure to try all combinations (hint, you will need a `for` loop inside another `for` loop!)."
     ]
    },
    {
     "cell_type": "code",
     "collapsed": false,
     "input": [
      "def alliteration(w1, w2):\n",
      "    \"\"\"says if w1 and w2 share the same initial consonant\"\"\"\n",
      "    return True\n",
      "\n",
      "def assonance(w1, w2):\n",
      "    \"\"\"says if w1 and w2 share the same first vowel\"\"\"\n",
      "    return True\n",
      "\n",
      "def rhyme(w1, w2):\n",
      "    \"\"\"says if w1 and w2 rhyme\"\"\"\n",
      "    return True\n",
      "\n",
      "def doTest(s, f):\n",
      "    for w1,w2,val in s:\n",
      "        ret = f(w1,w2)\n",
      "        if ret == val:\n",
      "            suc = \"PASS\"\n",
      "        else:\n",
      "            suc = \"FAIL\"\n",
      "        print \"%15s(%s, %s)\\t=%s\\t\\t%s\\t%s\\n\" %(f.__name__,w1, w2, ret, val, suc)\n",
      "\n",
      "if __name__ == '__main__':\n",
      "    test = [(\"simple\", \"sample\", True), (\"trip\", \"took\", True),\n",
      "                        (\"trip\", \"rip\", False), (\"trap\", \"sample\", False)]\n",
      "    doTest(test, alliteration)\n",
      "    \n",
      "    test = [(\"simple\", \"sample\", False), (\"trip\", \"took\", False),\n",
      "                        (\"trip\", \"rip\", True), (\"trap\", \"sample\", True)]\n",
      "    doTest(test, assonance)\n",
      "    \n",
      "    test = [(\"simple\", \"sample\", True), (\"trip\", \"rip\", True),\n",
      "                        (\"trust\", \"rip\", False), (\"through\", \"rough\", False)]\n",
      "    doTest(test, rhyme)"
     ],
     "language": "python",
     "metadata": {},
     "outputs": []
    },
    {
     "cell_type": "markdown",
     "metadata": {},
     "source": [
      "## Problem 8 (244 and Advanced Students Only)\n",
      "\n",
      "The CMU dictionary lacks syllabification. Write a program to syllabify any list of Arpabet phonemes. Sky's the limit."
     ]
    }
   ],
   "metadata": {}
  }
 ]
}