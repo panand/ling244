{
 "metadata": {
  "name": ""
 },
 "nbformat": 3,
 "nbformat_minor": 0,
 "worksheets": [
  {
   "cells": [
    {
     "cell_type": "code",
     "collapsed": false,
     "input": [
      "class Noun(object):\n",
      "    def __init__(self, sg, pl=None, mass = False):\n",
      "        self.sg = sg\n",
      "        \n",
      "        if pl != None:\n",
      "            self.pl = pl\n",
      "        else:\n",
      "            self.pl = self.sg + 's'\n",
      "            \n",
      "        self.mass = mass    \n",
      "\n",
      "    def __str__(self):    \n",
      "        return self.sg\n",
      "    \n",
      "    def isCount(self):\n",
      "        if self.mass==True:\n",
      "            return self.sg +' is a mass noun'\n",
      "        else:\n",
      "            return self.sg + ' is a count noun'\n",
      "    \n",
      "    def thereAre(self, num):\n",
      "        if num > 1:\n",
      "            return str(num) + ' ' + self.pl\n",
      "        else:\n",
      "            return str(num) + ' ' + self.sg\n",
      "\n",
      "    \n",
      "fred = Noun(\"apple\") \n",
      "\n",
      "print fred\n",
      "print fred.thereAre(1)\n",
      "print fred.thereAre(2)\n"
     ],
     "language": "python",
     "metadata": {},
     "outputs": [
      {
       "output_type": "stream",
       "stream": "stdout",
       "text": [
        "apple\n",
        "1 apple\n",
        "2 apples\n"
       ]
      }
     ],
     "prompt_number": 25
    },
    {
     "cell_type": "code",
     "collapsed": false,
     "input": [],
     "language": "python",
     "metadata": {},
     "outputs": []
    }
   ],
   "metadata": {}
  }
 ]
}